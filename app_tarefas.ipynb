{
 "cells": [
  {
   "cell_type": "code",
   "execution_count": null,
   "id": "5329b73a",
   "metadata": {},
   "outputs": [],
   "source": [
    "import tkinter as tk\n",
    "from tkinter import messagebox\n",
    "from tkinter import ttk\n",
    "from tkinter import filedialog\n",
    "import pandas as pd\n",
    "import os"
   ]
  },
  {
   "cell_type": "code",
   "execution_count": null,
   "id": "9e9aad51",
   "metadata": {},
   "outputs": [],
   "source": [
    "FILENAME = \"tasks.xlsx\""
   ]
  },
  {
   "cell_type": "code",
   "execution_count": null,
   "id": "e5fc057b",
   "metadata": {
    "lines_to_next_cell": 1
   },
   "outputs": [],
   "source": [
    "tasks = pd.DataFrame()"
   ]
  },
  {
   "cell_type": "code",
   "execution_count": null,
   "id": "3ff81eb0",
   "metadata": {
    "lines_to_next_cell": 1
   },
   "outputs": [],
   "source": [
    "def load_tasks():\n",
    "    \"\"\"Carrega as tarefas do arquivo Excel, ou cria um arquivo padrão se não existir.\"\"\"\n",
    "    if not os.path.exists(FILENAME):\n",
    "        df = pd.DataFrame(columns=[\"ID\", \"Tarefa\", \"Status\"])\n",
    "        df.to_excel(FILENAME, index=False, engine='openpyxl')\n",
    "    else:\n",
    "        df = pd.read_excel(FILENAME)\n",
    "    return df"
   ]
  },
  {
   "cell_type": "code",
   "execution_count": null,
   "id": "c6a80038",
   "metadata": {
    "lines_to_next_cell": 1
   },
   "outputs": [],
   "source": [
    "def save_tasks(df):\n",
    "    \"\"\"Salva as tarefas no arquivo Excel.\"\"\"\n",
    "    df.to_excel(FILENAME, index=False, engine='openpyxl')"
   ]
  },
  {
   "cell_type": "code",
   "execution_count": null,
   "id": "675f29bc",
   "metadata": {
    "lines_to_next_cell": 1
   },
   "outputs": [],
   "source": [
    "def save_as_file():\n",
    "    \"\"\"Permite ao usuário salvar o arquivo em um local diferente.\"\"\"\n",
    "    filepath = filedialog.asksaveasfilename(defaultextension=\".xlsx\", \n",
    "                                            filetypes=[(\"Excel files\", \"*.xlsx\")])\n",
    "    if filepath:\n",
    "        tasks.to_excel(filepath, index=False, engine='openpyxl')\n",
    "        messagebox.showinfo(\"Salvo\", f\"Tarefas salvas em: {filepath}\")"
   ]
  },
  {
   "cell_type": "code",
   "execution_count": null,
   "id": "a54902e5",
   "metadata": {
    "lines_to_next_cell": 1
   },
   "outputs": [],
   "source": [
    "def refresh_tasks():\n",
    "    \"\"\"Atualiza a exibição das tarefas na interface gráfica.\"\"\"\n",
    "    for row in tree.get_children():\n",
    "        tree.delete(row)\n",
    "\n",
    "    for _, row in tasks.iterrows():\n",
    "        tree.insert(\"\", tk.END, values=(row[\"ID\"], row[\"Tarefa\"], row[\"Status\"]))"
   ]
  },
  {
   "cell_type": "code",
   "execution_count": null,
   "id": "19472f53",
   "metadata": {
    "lines_to_next_cell": 1
   },
   "outputs": [],
   "source": [
    "def add_task():\n",
    "    \"\"\"Adiciona uma nova tarefa com confirmação do usuário.\"\"\"\n",
    "    global tasks \n",
    "    task_name = task_entry.get()\n",
    "    if not task_name.strip():\n",
    "        messagebox.showerror(\"Erro\", \"O nome da tarefa não pode estar vazio!\")\n",
    "        return\n",
    "\n",
    "    if not messagebox.askyesno(\"Confirmação\", f\"Você deseja adicionar a tarefa: '{task_name}'?\"):\n",
    "        return\n",
    "\n",
    "    new_id = tasks[\"ID\"].max() + 1 if not tasks.empty else 1\n",
    "    new_task = {\"ID\": new_id, \"Tarefa\": task_name.strip(), \"Status\": \"Pendente\"}\n",
    "    tasks.loc[len(tasks)] = new_task\n",
    "    save_tasks(tasks)\n",
    "    refresh_tasks()\n",
    "    task_entry.delete(0, tk.END)"
   ]
  },
  {
   "cell_type": "code",
   "execution_count": null,
   "id": "1799821d",
   "metadata": {
    "lines_to_next_cell": 1
   },
   "outputs": [],
   "source": [
    "def edit_task():\n",
    "    \"\"\"Edita uma tarefa selecionada.\"\"\"\n",
    "    global tasks \n",
    "    selected_item = tree.selection()\n",
    "    if not selected_item:\n",
    "        messagebox.showerror(\"Erro\", \"Nenhuma tarefa selecionada!\")\n",
    "        return\n",
    "\n",
    "    task_id = int(tree.item(selected_item)[\"values\"][0])\n",
    "    current_name = tasks.loc[tasks[\"ID\"] == task_id, \"Tarefa\"].values[0]\n",
    "\n",
    "    def save_edited_task():\n",
    "        new_name = edit_entry.get()\n",
    "        if not new_name.strip():\n",
    "            messagebox.showerror(\"Erro\", \"O nome da tarefa não pode estar vazio!\")\n",
    "            return\n",
    "\n",
    "        if not messagebox.askyesno(\"Confirmação\", f\"Você deseja alterar a tarefa '{current_name}' para '{new_name}'?\"):\n",
    "            return\n",
    "\n",
    "        tasks.loc[tasks[\"ID\"] == task_id, \"Tarefa\"] = new_name.strip()\n",
    "        save_tasks(tasks)\n",
    "        refresh_tasks()\n",
    "        edit_window.destroy()\n",
    "\n",
    "    edit_window = tk.Toplevel(root)\n",
    "    edit_window.title(\"Editar Tarefa\")\n",
    "    edit_window.geometry(\"400x200\")\n",
    "    edit_window.resizable(False, False)\n",
    "\n",
    "    tk.Label(edit_window, text=\"Editar Tarefa:\", font=(\"Arial\", 14)).pack(pady=10)\n",
    "    edit_entry = tk.Entry(edit_window, width=30, font=(\"Arial\", 14))\n",
    "    edit_entry.insert(0, current_name)\n",
    "    edit_entry.pack(pady=10)\n",
    "\n",
    "    tk.Button(edit_window, text=\"Salvar\", font=(\"Arial\", 12), command=save_edited_task).pack(pady=10)"
   ]
  },
  {
   "cell_type": "code",
   "execution_count": null,
   "id": "2ba9e2d6",
   "metadata": {
    "lines_to_next_cell": 1
   },
   "outputs": [],
   "source": [
    "def remove_task():\n",
    "    \"\"\"Remove a tarefa selecionada com confirmação do usuário.\"\"\"\n",
    "    global tasks \n",
    "    selected_item = tree.selection()\n",
    "    if not selected_item:\n",
    "        messagebox.showerror(\"Erro\", \"Nenhuma tarefa selecionada!\")\n",
    "        return\n",
    "\n",
    "    task_id = int(tree.item(selected_item)[\"values\"][0])\n",
    "    task_name = tasks.loc[tasks[\"ID\"] == task_id, \"Tarefa\"].values[0]\n",
    "\n",
    "    if not messagebox.askyesno(\"Confirmação\", f\"Você deseja remover a tarefa: '{task_name}'?\"):\n",
    "        return\n",
    "\n",
    "    tasks = tasks[tasks[\"ID\"] != task_id]\n",
    "    save_tasks(tasks)\n",
    "    refresh_tasks()"
   ]
  },
  {
   "cell_type": "code",
   "execution_count": null,
   "id": "ea045e25",
   "metadata": {
    "lines_to_next_cell": 1
   },
   "outputs": [],
   "source": [
    "def change_status():\n",
    "    \"\"\"Permite alterar o status da tarefa selecionada.\"\"\"\n",
    "    global tasks\n",
    "    selected_item = tree.selection()\n",
    "    if not selected_item:\n",
    "        messagebox.showerror(\"Erro\", \"Nenhuma tarefa selecionada!\")\n",
    "        return\n",
    "\n",
    "    task_id = int(tree.item(selected_item)[\"values\"][0])\n",
    "    current_status = tasks.loc[tasks[\"ID\"] == task_id, \"Status\"].values[0]\n",
    "\n",
    "    def save_new_status():\n",
    "        new_status = status_var.get()\n",
    "        if not new_status.strip():\n",
    "            messagebox.showerror(\"Erro\", \"O status não pode estar vazio!\")\n",
    "            return\n",
    "\n",
    "        if not messagebox.askyesno(\"Confirmação\", f\"Você deseja alterar o status de '{current_status}' para '{new_status}'?\"):\n",
    "            return\n",
    "\n",
    "        tasks.loc[tasks[\"ID\"] == task_id, \"Status\"] = new_status.strip()\n",
    "        save_tasks(tasks)\n",
    "        refresh_tasks()\n",
    "        status_window.destroy()\n",
    "\n",
    "    status_window = tk.Toplevel(root)\n",
    "    status_window.title(\"Alterar Status\")\n",
    "    status_window.geometry(\"400x200\")\n",
    "    status_window.resizable(False, False)\n",
    "\n",
    "    tk.Label(status_window, text=\"Alterar Status:\", font=(\"Arial\", 14)).pack(pady=10)\n",
    "\n",
    "    status_var = tk.StringVar(value=current_status)\n",
    "    status_dropdown = ttk.Combobox(status_window, textvariable=status_var, font=(\"Arial\", 12), state=\"readonly\")\n",
    "    status_dropdown['values'] = (\"Pendente\", \"Em Progresso\", \"Concluído\")\n",
    "    status_dropdown.pack(pady=10)\n",
    "\n",
    "    tk.Button(status_window, text=\"Salvar\", font=(\"Arial\", 12), command=save_new_status).pack(pady=10)"
   ]
  },
  {
   "cell_type": "code",
   "execution_count": null,
   "id": "47ee1978",
   "metadata": {},
   "outputs": [],
   "source": [
    "root = tk.Tk()\n",
    "root.title(\"TaskMaster Pro\")\n",
    "root.geometry(\"700x500\")\n",
    "root.resizable(False, False)"
   ]
  },
  {
   "cell_type": "code",
   "execution_count": null,
   "id": "724b95b7",
   "metadata": {},
   "outputs": [],
   "source": [
    "style = ttk.Style()\n",
    "style.theme_use(\"clam\")\n",
    "style.configure(\"Treeview\", font=(\"Arial\", 12), rowheight=25)\n",
    "style.configure(\"Treeview.Heading\", font=(\"Arial\", 14, \"bold\"))\n",
    "style.configure(\"TButton\", font=(\"Arial\", 12))"
   ]
  },
  {
   "cell_type": "code",
   "execution_count": null,
   "id": "dafb33e3",
   "metadata": {},
   "outputs": [],
   "source": [
    "tasks = load_tasks()"
   ]
  },
  {
   "cell_type": "code",
   "execution_count": null,
   "id": "7346d7e8",
   "metadata": {},
   "outputs": [],
   "source": [
    "title = tk.Label(root, text=\"TaskMaster Pro\", font=(\"Arial\", 20, \"bold\"), fg=\"#4A90E2\")\n",
    "title.pack(pady=10)"
   ]
  },
  {
   "cell_type": "code",
   "execution_count": null,
   "id": "b8d4e19f",
   "metadata": {},
   "outputs": [],
   "source": [
    "frame = tk.Frame(root)\n",
    "frame.pack(pady=10)"
   ]
  },
  {
   "cell_type": "code",
   "execution_count": null,
   "id": "287a5d90",
   "metadata": {},
   "outputs": [],
   "source": [
    "task_entry = tk.Entry(frame, width=40, font=(\"Arial\", 14))\n",
    "task_entry.grid(row=0, column=0, padx=5, pady=5)"
   ]
  },
  {
   "cell_type": "code",
   "execution_count": null,
   "id": "1016e971",
   "metadata": {},
   "outputs": [],
   "source": [
    "btn_add = ttk.Button(frame, text=\"Adicionar\", command=add_task)\n",
    "btn_add.grid(row=0, column=1, padx=5)"
   ]
  },
  {
   "cell_type": "code",
   "execution_count": null,
   "id": "20626a91",
   "metadata": {},
   "outputs": [],
   "source": [
    "btn_edit = ttk.Button(frame, text=\"Editar\", command=edit_task)\n",
    "btn_edit.grid(row=1, column=0, pady=5)"
   ]
  },
  {
   "cell_type": "code",
   "execution_count": null,
   "id": "6478a613",
   "metadata": {},
   "outputs": [],
   "source": [
    "btn_remove = ttk.Button(frame, text=\"Remover\", command=remove_task)\n",
    "btn_remove.grid(row=1, column=1, pady=5)"
   ]
  },
  {
   "cell_type": "code",
   "execution_count": null,
   "id": "878a2f38",
   "metadata": {},
   "outputs": [],
   "source": [
    "btn_change_status = ttk.Button(frame, text=\"Alterar Status\", command=change_status)\n",
    "btn_change_status.grid(row=2, column=0, pady=5)"
   ]
  },
  {
   "cell_type": "code",
   "execution_count": null,
   "id": "8d32fc8b",
   "metadata": {},
   "outputs": [],
   "source": [
    "btn_save_as = ttk.Button(frame, text=\"Salvar Como\", command=save_as_file)\n",
    "btn_save_as.grid(row=2, column=1, pady=5)"
   ]
  },
  {
   "cell_type": "code",
   "execution_count": null,
   "id": "26833342",
   "metadata": {},
   "outputs": [],
   "source": [
    "columns = (\"ID\", \"Tarefa\", \"Status\")\n",
    "tree = ttk.Treeview(root, columns=columns, show=\"headings\", height=15)\n",
    "tree.heading(\"ID\", text=\"ID\")\n",
    "tree.heading(\"Tarefa\", text=\"Tarefa\")\n",
    "tree.heading(\"Status\", text=\"Status\")\n",
    "tree.column(\"ID\", width=50, anchor=tk.CENTER)\n",
    "tree.column(\"Tarefa\", width=500, anchor=tk.W)\n",
    "tree.column(\"Status\", width=100, anchor=tk.CENTER)\n",
    "tree.pack(pady=10)"
   ]
  },
  {
   "cell_type": "code",
   "execution_count": null,
   "id": "4f7e90ec",
   "metadata": {},
   "outputs": [],
   "source": [
    "scrollbar = ttk.Scrollbar(root, orient=tk.VERTICAL, command=tree.yview)\n",
    "tree.configure(yscroll=scrollbar.set)\n",
    "scrollbar.pack(side=tk.RIGHT, fill=tk.Y)"
   ]
  },
  {
   "cell_type": "code",
   "execution_count": null,
   "id": "1a49f13e",
   "metadata": {},
   "outputs": [],
   "source": [
    "refresh_tasks()"
   ]
  },
  {
   "cell_type": "code",
   "execution_count": null,
   "id": "f738a9f6",
   "metadata": {},
   "outputs": [],
   "source": [
    "root.mainloop()"
   ]
  }
 ],
 "metadata": {
  "jupytext": {
   "cell_metadata_filter": "-all",
   "main_language": "python",
   "notebook_metadata_filter": "-all"
  },
  "language_info": {
   "name": "python"
  }
 },
 "nbformat": 4,
 "nbformat_minor": 5
}
